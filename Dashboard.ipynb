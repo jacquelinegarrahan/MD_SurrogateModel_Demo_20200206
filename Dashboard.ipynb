{
 "cells": [
  {
   "cell_type": "markdown",
   "metadata": {},
   "source": [
    "# Online Surrogate Model Dashboard Demo\n",
    "\n",
    "Note: Complete Server.ipynb notebook before moving forward with dashboard.\n",
    "\n",
    "## Project description \n",
    "\n",
    "In this demo, we will launch a PVAccess server and use its process variables as the inputs and outputs of an online surrogate model. We will then create an application using sliders to control the input process variables, and a number of data views to capture the ouput variables. This is the second of two notebooks used for the demo. In this notebook, we set up the dashboard view of the model. The application will consist of: \n",
    "- Input control sliders\n",
    "- Image view\n",
    "- Value table\n",
    "- Striptool\n",
    "\n",
    "Each of these items will be referred to as \"widgets\". \n",
    "\n",
    "## Structure of the application folder\n",
    "\n",
    "All pages that can be served using the command `bokeh serve {page} --args -p pva -f {data_file}` are located in the `pages` subfolder. Widget items used to design an application are found in the `widgets` subfolder. All widgets make use of monitors, which format the  data appropriately for widget use. The monitors use a defined controller to put and get process variables from the PVAccess server.\n",
    "\n",
    "```\n",
    "app\n",
    "├── __init__.py\n",
    "├── controllers.py\n",
    "├── monitors.py\n",
    "├── pages\n",
    "│   ├── __init__.py\n",
    "│   ├── controls.py\n",
    "│   ├── dashboard.py\n",
    "│   ├── image_viewer.py\n",
    "│   └── striptool.py\n",
    "└── widgets\n",
    "    ├── __init__.py\n",
    "    ├── plots.py\n",
    "    ├── sliders.py\n",
    "    └── tables.py\n",
    "```\n",
    "\n",
    "## Note on running- requires active server\n",
    "In addition to the launching the server using Server.ipynb, the sever can also be started from an additional terminal using the conda environment and the command `python bin/cli.py serve start-server pva online_model/files/pydantic_variables.pickle`."
   ]
  },
  {
   "cell_type": "markdown",
   "metadata": {},
   "source": [
    "# Application design\n",
    "The application was designed in the spirit of a model-view-controller framework, with a specific departure: the controller is responsible for both serving and fetching information from the server. Views are updated based on changes in the controllers report of the output states of the output variables.\n",
    "\n",
    "<img src=\"online_model/files/dashboard_app_diagram.png\">"
   ]
  },
  {
   "cell_type": "code",
   "execution_count": null,
   "metadata": {},
   "outputs": [],
   "source": [
    "# MAKE SURE THAT THE REPOSITORY ROOT IS IN THE PYTHONPATH\n",
    "import sys\n",
    "import os\n",
    "\n",
    "module_path = os.path.abspath(os.path.join(os.pardir, os.pardir))\n",
    "if module_path not in sys.path:\n",
    "    sys.path.append(module_path)"
   ]
  },
  {
   "cell_type": "code",
   "execution_count": null,
   "metadata": {},
   "outputs": [],
   "source": [
    "from bokeh.io import output_notebook, show\n",
    "from bokeh.models.widgets import Select\n",
    "from bokeh import palettes\n",
    "from bokeh.layouts import column, row, Spacer\n",
    "\n",
    "# load bokeh\n",
    "output_notebook()"
   ]
  },
  {
   "cell_type": "code",
   "execution_count": null,
   "metadata": {},
   "outputs": [],
   "source": [
    "# Import the controller\n",
    "from online_model.app.controllers import Controller\n",
    "\n",
    "# Import the widgets\n",
    "from online_model.app.widgets.sliders import build_sliders\n",
    "from online_model.app.widgets.plots import ImagePlot, Striptool\n",
    "from online_model.app.widgets.tables import ValueTable\n",
    "from online_model.app import load_data\n",
    "\n",
    "PROTOCOL = \"pva\"\n",
    "\n",
    "# TEMPORARY FIX FOR SAME NAME INPUT/OUTPUT VARS\n",
    "REDUNDANT_INPUT_OUTPUT = [\"xmin\", \"xmax\", \"ymin\", \"ymax\"]\n",
    "\n",
    "# sliders to exclude\n",
    "EXCLUDE_SLIDERS = [\"in_\" + input_name for input_name in REDUNDANT_INPUT_OUTPUT]\n",
    "\n",
    "# vars to process as image\n",
    "ARRAY_PVS = [\"x:y\"]\n",
    "\n",
    "# get pvdb  setup\n",
    "DATA_FILE = \"online_model/files/pydantic_variables.pickle\"\n",
    "FROM_XARRAY  = False\n",
    "CMD_PVDB, SIM_PVDB = load_data(DATA_FILE, FROM_XARRAY, PROTOCOL)\n",
    "\n",
    "# exclude channel access data items from widgets\n",
    "SIM_PVDB = {\n",
    "    item: value for item, value in SIM_PVDB.items() if \"units\" in SIM_PVDB[item]\n",
    "}\n",
    "\n",
    "# server prefix\n",
    "PREFIX = \"smvm\""
   ]
  },
  {
   "cell_type": "markdown",
   "metadata": {},
   "source": [
    "# Set up the controller\n",
    "The Controller class has `get` and `put` methods that are handled using the appropriate protocol. "
   ]
  },
  {
   "cell_type": "code",
   "execution_count": null,
   "metadata": {},
   "outputs": [],
   "source": [
    "# create controller\n",
    "controller = Controller(PROTOCOL)"
   ]
  },
  {
   "cell_type": "markdown",
   "metadata": {},
   "source": [
    "# Build sliders\n",
    "Sliders are build for any input process variable that is not in the EXCLUDE_SLIDERS list (these are the input extents right now),"
   ]
  },
  {
   "cell_type": "code",
   "execution_count": null,
   "metadata": {},
   "outputs": [],
   "source": [
    "# build sliders for the command process variable database\n",
    "# TEMPORARILY EXCLUDE THE EXTENTS\n",
    "sliders_to_render = {}\n",
    "for var, value in CMD_PVDB.items():\n",
    "    if \"in_\" not in EXCLUDE_SLIDERS:\n",
    "        sliders_to_render[var] = value\n",
    "\n",
    "sliders = build_sliders(sliders_to_render, controller, PREFIX)"
   ]
  },
  {
   "cell_type": "markdown",
   "metadata": {},
   "source": [
    "# Image Viewer\n",
    "\n",
    "The image viewer has two associated items, the selection tool and the plot. The selection tool is used for selecting the axes to examine (are we looking at x vs. y, x vs. z, etc.) and the plot item actually displays the image. \n",
    "\n",
    "## Callbacks\n",
    "For both the selection tool and the plot, we have to define the appropriate callbacks for updating data. The `image_select` callback is used for toggling the variable to display. The `image_update_callback` syncs the image presented with the output variables collected from the server.\n"
   ]
  },
  {
   "cell_type": "code",
   "execution_count": null,
   "metadata": {},
   "outputs": [],
   "source": [
    "# Create custom palette with low values set to white\n",
    "pal = list(palettes.viridis(244))  # 256 - 12 (set lowest 5% to white)\n",
    "pal = [\"#FFFFFF\"] * 12 + pal\n",
    "pal = tuple(pal)\n",
    "\n",
    "# create plot\n",
    "image_plot = ImagePlot(SIM_PVDB, controller, PREFIX)\n",
    "image_plot.build_plot(pal)\n",
    "\n",
    "# track current_pv globally\n",
    "current_image_pv = image_plot.current_pv\n",
    "\n",
    "# set up image toggle\n",
    "image_select = Select(\n",
    "    title=\"Image PV\",\n",
    "    value=current_image_pv,\n",
    "    options=list(image_plot.pv_monitors.keys()),\n",
    ")\n",
    "\n",
    "# callback to update the image variables\n",
    "def on_image_selection(attrname, old, new):\n",
    "    \"\"\"\n",
    "    Callback function for dropdown selection that updates the global current variable.\n",
    "    \"\"\"\n",
    "    global current_image_pv\n",
    "    current_image_pv = new\n",
    "\n",
    "#assign the callback to the image selection\n",
    "image_select.on_change(\"value\", on_image_selection)\n",
    "\n",
    "# Set up image update callback\n",
    "def image_update_callback():\n",
    "    \"\"\"\n",
    "    Calls plot controller update with the current global process variable\n",
    "    \"\"\"\n",
    "    global current_image_pv\n",
    "    image_plot.update(current_image_pv)"
   ]
  },
  {
   "cell_type": "markdown",
   "metadata": {},
   "source": [
    "# Striptool\n",
    "The striptool requires the same update and selection callbacks as the image_viewer."
   ]
  },
  {
   "cell_type": "code",
   "execution_count": null,
   "metadata": {},
   "outputs": [],
   "source": [
    "# Set up the striptool\n",
    "# exclude array\n",
    "striptool_to_render = {}\n",
    "for var, value in SIM_PVDB.items():\n",
    "    if var not in ARRAY_PVS:\n",
    "        striptool_to_render[var] = value\n",
    "\n",
    "\n",
    "striptool = Striptool(striptool_to_render, controller, PREFIX)\n",
    "striptool.build_plot()\n",
    "\n",
    "# set up global pv\n",
    "current_striptool_pv = striptool.current_pv\n",
    "\n",
    "# create a selection tool so we can switch between output variables\n",
    "striptool_select = Select(\n",
    "    title=\"PV to Plot:\",\n",
    "    value=current_striptool_pv,\n",
    "    options=list(striptool.pv_monitors.keys()),\n",
    ")\n",
    "\n",
    "# create a selection callback\n",
    "def striptool_select_callback(attr, old, new):\n",
    "    global current_striptool_pv\n",
    "    current_striptool_pv = new\n",
    "    \n",
    "# striptool data update callback\n",
    "def striptool_update_callback():\n",
    "    \"\"\"\n",
    "    Calls plot controller update with the current global process variable\n",
    "    and updates the value table.\n",
    "    \"\"\"\n",
    "    global current_striptool_pv\n",
    "    striptool.update(current_striptool_pv)\n",
    "    value_table.update()\n",
    "\n",
    "# assign the selection callback to the striptool\n",
    "striptool_select.on_change(\"value\", striptool_select_callback)"
   ]
  },
  {
   "cell_type": "markdown",
   "metadata": {},
   "source": [
    "# Value table\n",
    "The value table requires an update callback."
   ]
  },
  {
   "cell_type": "code",
   "execution_count": null,
   "metadata": {},
   "outputs": [],
   "source": [
    "# add table\n",
    "# exclude array\n",
    "value_table_to_render = {}\n",
    "for var, value in SIM_PVDB.items():\n",
    "    if var not in ARRAY_PVS:\n",
    "        value_table_to_render[var] = value\n",
    "        \n",
    "# add table\n",
    "value_table = ValueTable(value_table_to_render, controller, PREFIX)\n",
    "\n",
    "# Set up callback to update the table\n",
    "def table_update_callback():\n",
    "    \"\"\"\n",
    "    Updates the value table.\n",
    "    \"\"\"\n",
    "    value_table.update()"
   ]
  },
  {
   "cell_type": "markdown",
   "metadata": {},
   "source": [
    "# Set up our application layout\n",
    "The `render_app` function will start the dashboard within the notebook. This uses bokeh's row and column layout items to compose the view. We also add our update callbacks to the document. Finally, `show(render_app)` will embed the view.\n",
    "\n",
    "# NOTE:\n",
    "Depending on the order in which you opened your server and dashboard notebooks, you may run into a bokeh error, ``ERROR:bokeh.server.views.ws:Refusing websocket connection from Origin 'http://localhost:{SOME PORT}'``. This error is because coss site connections to the Bokeh server websocket aren't allowed by default. Running the command that follows the `render_app` definition, with the appropriate port from the error, will allow the app to be rendered.\n",
    "\n",
    "In addtion you attempt to run the following code multiple times, without stopping the kernel, you will run into the following error: ``RuntimeError: Models must be owned by only a single document``. Restarting the kernel will remove this error."
   ]
  },
  {
   "cell_type": "code",
   "execution_count": null,
   "metadata": {},
   "outputs": [],
   "source": [
    "def render_app(doc):\n",
    "    \"\"\"\n",
    "    Function for rendering the application within the embedded bokeh server.\n",
    "    \"\"\"\n",
    "    doc.title = \"Online Surrogate Model Image Viewer\"\n",
    "    doc.add_root( column(\n",
    "        row(column(sliders, width=350), Spacer(width=50),  column(value_table.table, height=300)),  # add sliders\n",
    "        row(column(image_select, image_plot.p), column(striptool_select, striptool.p))\n",
    "    ))\n",
    "    doc.add_periodic_callback(image_update_callback, 250)\n",
    "    doc.add_periodic_callback(striptool_update_callback, 250)\n",
    "    doc.add_periodic_callback(table_update_callback, 250)\n",
    "\n",
    "    \n",
    "show(render_app)"
   ]
  },
  {
   "cell_type": "code",
   "execution_count": null,
   "metadata": {},
   "outputs": [],
   "source": [
    "# ALLOW CROSS SITE SCRIPTING\n",
    "os.environ[\"BOKEH_ALLOW_WS_ORIGIN\"] = \"localhost:8889\""
   ]
  },
  {
   "cell_type": "code",
   "execution_count": null,
   "metadata": {},
   "outputs": [],
   "source": []
  }
 ],
 "metadata": {
  "kernelspec": {
   "display_name": "online-surrogate-model-dev",
   "language": "python",
   "name": "online-surrogate-model-dev"
  },
  "language_info": {
   "codemirror_mode": {
    "name": "ipython",
    "version": 3
   },
   "file_extension": ".py",
   "mimetype": "text/x-python",
   "name": "python",
   "nbconvert_exporter": "python",
   "pygments_lexer": "ipython3",
   "version": "3.7.7"
  }
 },
 "nbformat": 4,
 "nbformat_minor": 4
}
