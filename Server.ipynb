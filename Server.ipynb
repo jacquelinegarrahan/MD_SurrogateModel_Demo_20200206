{
 "cells": [
  {
   "cell_type": "markdown",
   "metadata": {},
   "source": [
    "# Online Surrogate Model Dashboard Demo : Server\n",
    "This is the first of two notebooks in the demo. Complete this notebook before moving on to Dashboard.ipynb.\n",
    "\n",
    "## Project description \n",
    "\n",
    "In this demo, we will launch a PVAccess server and use its process variables as the inputs and outputs of an online surrogate model. We will then create an application using sliders to control the input process variables, and a number of data views to capture the ouput variables.\n",
    "\n",
    "<br>\n",
    "**This would be a nice place to add some specific info about the actual modeling, descriptions of inputs/outputs etc.**\n",
    "<br>\n",
    "\n",
    "This notebook is used to set up the PVAccess server. The server is responsible for running callbacks on updated inputs in order to generate model output, and serves the output process variables by PVAccess. This server can also be started from the command line using the command `python bin/cli.py serve start-server pva`.\n",
    "\n",
    "\n",
    "## Description of model requirements \n",
    "There are several requirements necessary for running a model online with the server. \n",
    "\n",
    "- All variables, (input & output) must have unique names\n",
    "- The output of the model must be configured to run a `predict` method that returns a dictionary mapping process variables to float outputs for single values, and a numpy array for image values. \n",
    "- The image model must contain the static method `prepare_image_from_pv` which contains a post-processing pipeline for the images after collected from the output process variables and before they are displayed in the dashboard. The output of this method must be in the form:\n",
    "\n",
    "               {\n",
    "                \"image\": [np.ndarray],\n",
    "                \"x\": [float/int], \n",
    "                \"y\": [float/int],\n",
    "                \"dw\": [float],\n",
    "                \"dh\": [float],\n",
    "            }\n",
    "\n",
    "\n",
    "A base class (online_model.model.surrogate_model.SurrogateModel) is provided as an optional base class for model class development. Use of the base class is not necessary; however, it's abstract methods are intended to serve as template for the necessary methods required for server and application compatibility.\n"
   ]
  },
  {
   "cell_type": "code",
   "execution_count": null,
   "metadata": {},
   "outputs": [],
   "source": [
    "# MAKE SURE THAT THE REPOSITORY ROOT IS IN THE PYTHONPATH\n",
    "import sys\n",
    "import os\n",
    "\n",
    "# get absolute path of two parents up (brings us to project root)\n",
    "module_path = os.path.abspath(os.path.join(os.pardir, os.pardir))\n",
    "\n",
    "if module_path not in sys.path:\n",
    "    sys.path.append(module_path)"
   ]
  },
  {
   "cell_type": "markdown",
   "metadata": {},
   "source": [
    "# Package initialization\n",
    "In order to simplify the code and reduce redundancy, all model specific configuration parameters are built and stored immediately at runtime. This initialization is also where hard-coded items like the model path are stored. These hard-coded items, which aren't derived at runtime will be moved to a designated configuration file.\n",
    "<br>\n",
    "### Hard-coded values\n",
    "- MODEL_FILE\n",
    "- STOCK_LASER_IMAGE\n",
    "- STOCK_INPUT_SCALARS\n",
    "- DEFAULT_INPUTS_SCALARS\n",
    "- PREFIX\n",
    "- REDUNDANT_INPUT_OUTPUT (used for patching current redundant input/ouptut)\n",
    "- EXCLUDE_SLIDERS (sliders to exclude, currently input extents)\n",
    "- MODEL_KWARGS\n",
    "- ARRAY_PVS (used to indicate which variables are arrays)\n",
    "\n",
    "### Built values (built from model info found in file at `MODEL_FILE` path)\n",
    "- DEFAULT_INPUTS (composition of DEFAULT_LASER_IMAGE and DEFAULT_INPUTS_SCALARS)\n",
    "- DEFAULT_LASER_IMAGE (loads STOCK_LASER_IMAGE)\n",
    "- MODEL_INFO\n",
    "- CMD_PVDB\n",
    "- SIM_PVDB\n",
    "<br>\n",
    "As of now, introducing a new model will require manipulating the `online_model/__init__.py` file for the hard-coded values."
   ]
  },
  {
   "cell_type": "markdown",
   "metadata": {},
   "source": [
    "## Setting up the PVAccess server\n",
    "\n",
    "The PVAccess server (and Channel Access server) require the input pvdb, output pvdb, model class, model kwarg configs, and prefix in order to start. "
   ]
  },
  {
   "cell_type": "code",
   "execution_count": null,
   "metadata": {},
   "outputs": [],
   "source": [
    "from online_model.server import pva\n",
    "from online_model.model.MySurrogateModel import MySurrogateModel\n",
    "from online_model import CMD_PVDB, SIM_PVDB, MODEL_KWARGS, PREFIX"
   ]
  },
  {
   "cell_type": "code",
   "execution_count": null,
   "metadata": {},
   "outputs": [],
   "source": [
    "pva_server = pva.PVAServer(MySurrogateModel, MODEL_KWARGS, CMD_PVDB, SIM_PVDB, PREFIX)"
   ]
  },
  {
   "cell_type": "code",
   "execution_count": null,
   "metadata": {},
   "outputs": [],
   "source": [
    "pva_server.start_server()"
   ]
  },
  {
   "cell_type": "markdown",
   "metadata": {},
   "source": [
    "The server is now running. To continue the demo, move to the Dashboard.ipynb notebook (without shutting this tab down)."
   ]
  }
 ],
 "metadata": {
  "kernelspec": {
   "display_name": "online-surrogate-model-dev",
   "language": "python",
   "name": "online-surrogate-model-dev"
  },
  "language_info": {
   "codemirror_mode": {
    "name": "ipython",
    "version": 3
   },
   "file_extension": ".py",
   "mimetype": "text/x-python",
   "name": "python",
   "nbconvert_exporter": "python",
   "pygments_lexer": "ipython3",
   "version": "3.7.7"
  }
 },
 "nbformat": 4,
 "nbformat_minor": 4
}
