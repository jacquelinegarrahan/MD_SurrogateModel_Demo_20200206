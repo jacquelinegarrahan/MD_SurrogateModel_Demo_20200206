{
 "cells": [
  {
   "cell_type": "markdown",
   "metadata": {},
   "source": [
    "# Online Surrogate Model Dashboard Demo : Server\n",
    "This is the first of two notebooks in the demo. Complete this notebook before moving on to Dashboard.ipynb.\n",
    "\n",
    "## Project description \n",
    "\n",
    "In this demo, we will launch a PVAccess server and use its process variables as the inputs and outputs of an online surrogate model. We will then create an application using sliders to control the input process variables, and a number of data views to capture the ouput variables.\n",
    "\n",
    "<br>\n",
    "**This would be a nice place to add some specific info about the actual modeling, descriptions of inputs/outputs etc.**\n",
    "<br>\n",
    "\n",
    "This notebook is used to set up the PVAccess server. The server is responsible for running callbacks on updated inputs in order to generate model output, and serves the output process variables by PVAccess. This server can also be started from the command line using the command `python bin/cli.py serve start-server pva online_model/files/pydantic_variables.pickle`.\n",
    "\n",
    "\n",
    "## Description of model requirements \n",
    "There are several requirements necessary for running a model online with the server. \n",
    "\n",
    "- All variables, (input & output) must have unique names\n",
    "- The output of the model must be configured to run a `predict` method that returns a dictionary mapping process variables to float outputs for single values, and a numpy array for image values. \n",
    "\n",
    "A base class (online_model.model.surrogate_model.SurrogateModel) is provided as an optional base class for model class development. Use of the base class is not necessary; however, it's abstract methods are intended to serve as template for the necessary methods required for server and application compatibility.\n"
   ]
  },
  {
   "cell_type": "code",
   "execution_count": null,
   "metadata": {},
   "outputs": [],
   "source": [
    "# MAKE SURE THAT THE REPOSITORY ROOT IS IN THE PYTHONPATH\n",
    "import sys\n",
    "import os\n",
    "\n",
    "# get absolute path of two parents up (brings us to project root)\n",
    "module_path = os.path.abspath(os.path.join(os.pardir, os.pardir))\n",
    "\n",
    "if module_path not in sys.path:\n",
    "    sys.path.append(module_path)"
   ]
  },
  {
   "cell_type": "markdown",
   "metadata": {},
   "source": [
    "# Package initialization\n",
    "In order to simplify the code and reduce redundancy, all model specific configuration parameters are provided when serving the file.\n",
    "<br>\n",
    "### Hard-coded values\n",
    "- MODEL_FILE (server)\n",
    "- STOCK_LASER_IMAGE  (server)\n",
    "- DEFAULT_INPUTS_SCALARS (server)\n",
    "- PREFIX (client + server)\n",
    "- REDUNDANT_INPUT_OUTPUT (used for patching current redundant input/ouptut) (client)\n",
    "- EXCLUDE_SLIDERS (sliders to exclude, currently input extents) (client)\n",
    "- MODEL_KWARGS (server)\n",
    "- ARRAY_PVS (used to indicate which variables are arrays) (client + server)\n",
    "<br>\n",
    "As of now, introducing a new model will require manipulating the values in `bin/commands/serve.py` file and building a new dashboard page with the desired sliders, etc."
   ]
  },
  {
   "cell_type": "markdown",
   "metadata": {},
   "source": [
    "## Setting up the PVAccess server"
   ]
  },
  {
   "cell_type": "code",
   "execution_count": null,
   "metadata": {},
   "outputs": [],
   "source": [
    "import numpy as np\n",
    "from online_model import server\n",
    "from online_model.model.MySurrogateModel import MySurrogateModel\n",
    "\n",
    "PREFIX = \"smvm\"\n",
    "PROTOCOL = \"pva\"\n",
    "MODEL_FILE = \"online_model/files/CNN_051620_SurrogateModel.h5\"\n",
    "STOCK_LASER_IMAGE = \"online_model/files/example_input_image.npy\"\n",
    "ARRAY_PVS = [\"x:y\", \"image\"]\n",
    "FROM_XARRAY =  False\n",
    "DATA_FILE = \"online_model/files/pydantic_variables.pickle\"\n",
    "\n",
    "MODEL_KWARGS = {\n",
    "    \"model_file\": MODEL_FILE,\n",
    "    \"stock_image_input\": np.load(STOCK_LASER_IMAGE),\n",
    "}"
   ]
  },
  {
   "cell_type": "code",
   "execution_count": null,
   "metadata": {},
   "outputs": [],
   "source": [
    "pva_server = server.get_server(\n",
    "    PREFIX, MySurrogateModel, MODEL_KWARGS, PROTOCOL, DATA_FILE, FROM_XARRAY, ARRAY_PVS\n",
    ")"
   ]
  },
  {
   "cell_type": "code",
   "execution_count": null,
   "metadata": {},
   "outputs": [],
   "source": [
    "pva_server.start_server()"
   ]
  },
  {
   "cell_type": "markdown",
   "metadata": {},
   "source": [
    "The server is now running. To continue the demo, move to the Dashboard.ipynb notebook (without shutting this tab down)."
   ]
  }
 ],
 "metadata": {
  "kernelspec": {
   "display_name": "online-surrogate-model-dev",
   "language": "python",
   "name": "online-surrogate-model-dev"
  },
  "language_info": {
   "codemirror_mode": {
    "name": "ipython",
    "version": 3
   },
   "file_extension": ".py",
   "mimetype": "text/x-python",
   "name": "python",
   "nbconvert_exporter": "python",
   "pygments_lexer": "ipython3",
   "version": "3.7.7"
  }
 },
 "nbformat": 4,
 "nbformat_minor": 4
}
