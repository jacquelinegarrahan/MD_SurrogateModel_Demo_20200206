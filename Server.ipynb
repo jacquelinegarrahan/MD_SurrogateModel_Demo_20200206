{
 "cells": [
  {
   "cell_type": "markdown",
   "metadata": {},
   "source": [
    "# Online Surrogate Model Dashboard Demo : Server\n",
    "This is the first of two notebooks in the demo. Complete this notebook before moving on to Dashboard.ipynb.\n",
    "\n",
    "## Project description \n",
    "\n",
    "In this demo, we will launch a PVAccess server and use its process variables as the inputs and outputs of an online surrogate model. We will then create an application using sliders to control the input process variables, and a number of data views to capture the ouput variables.\n",
    "\n",
    "<br>\n",
    "*This would be a nice place to add some specific info about the actual modeling, descriptions of inputs/outputs etc.*\n",
    "<br>\n",
    "\n",
    "This notebook is used to set up the server for the application. The server is responsible for running callbacks on updated inputs in order to generate model output, and serves the output process variables by PVAccess.\n",
    "\n",
    "\n",
    "## Description of model requirements \n",
    "There are several requirements necessary for running a model online with the server. \n",
    "\n",
    "- All variables, (input & output) must have unique names\n",
    "- The output of the model must be configured to run a `predict` method that returns a dictionary mapping process variables to float outputs for single values, and a numpy array for image values. \n",
    "- The image model must contain the static method `prepare_image_from_pv` which contains a post-processing pipeline for the images after collected from the output process variables and before they are displayed in the dashboard. The output of this method must be in the form:\n",
    "\n",
    "               {\n",
    "                \"image\": [np.ndarray],\n",
    "                \"x\": [float/int], \n",
    "                \"y\": [float/int],\n",
    "                \"dw\": [float],\n",
    "                \"dh\": [float],\n",
    "            }\n",
    "\n",
    "\n",
    "A base class (online_model.model.surrogate_model.SurrogateModel) is provided as an optional base class for model class development. Use of the base class is not necessary; however, it's abstract methods are intended to serve as template for the necessary methods required for server and application compatibility.\n",
    "\n",
    "<br>\n",
    "\n",
    "\n",
    "### Each process variable must have its own name"
   ]
  },
  {
   "cell_type": "code",
   "execution_count": 9,
   "metadata": {},
   "outputs": [
    {
     "name": "stdout",
     "output_type": "stream",
     "text": [
      "/Users/jacquelinegarrahan/SLAC/MD_SurrogateModel_Demo_20200206\n"
     ]
    }
   ],
   "source": [
    "# MAKE SURE THAT THE REPOSITORY ROOT IS IN THE PYTHONPATH\n",
    "import sys\n",
    "import os\n",
    "\n",
    "# get absolute path of two parents up (brings us to project root)\n",
    "module_path = os.path.abspath(os.path.join(os.pardir, os.pardir))\n",
    "\n",
    "if module_path not in sys.path:\n",
    "    sys.path.append(module_path)\n",
    "\n",
    "os.chdir = module_path"
   ]
  },
  {
   "cell_type": "code",
   "execution_count": 14,
   "metadata": {},
   "outputs": [
    {
     "name": "stdout",
     "output_type": "stream",
     "text": [
      "The autoreload extension is already loaded. To reload it, use:\n",
      "  %reload_ext autoreload\n"
     ]
    }
   ],
   "source": [
    "%load_ext autoreload\n",
    "%autoreload 2"
   ]
  },
  {
   "cell_type": "markdown",
   "metadata": {},
   "source": [
    "## Setting up the PVAccess server\n",
    "\n",
    "In order to start the server, you have to tell it what model to serve, how to serve that model, p"
   ]
  },
  {
   "cell_type": "markdown",
   "metadata": {},
   "source": [
    "Our __init__ file..."
   ]
  },
  {
   "cell_type": "code",
   "execution_count": 15,
   "metadata": {},
   "outputs": [
    {
     "name": "stdout",
     "output_type": "stream",
     "text": [
      "/Users/jacquelinegarrahan/SLAC/MD_SurrogateModel_Demo_20200206\n"
     ]
    },
    {
     "ename": "OSError",
     "evalue": "Unable to open file (unable to open file: name = 'online_model/files/CNN_051620_SurrogateModel.h5', errno = 2, error message = 'No such file or directory', flags = 0, o_flags = 0)",
     "output_type": "error",
     "traceback": [
      "\u001b[0;31m---------------------------------------------------------------------------\u001b[0m",
      "\u001b[0;31mOSError\u001b[0m                                   Traceback (most recent call last)",
      "\u001b[0;32m<ipython-input-15-8292c8233859>\u001b[0m in \u001b[0;36m<module>\u001b[0;34m\u001b[0m\n\u001b[0;32m----> 1\u001b[0;31m \u001b[0;32mfrom\u001b[0m \u001b[0monline_model\u001b[0m\u001b[0;34m.\u001b[0m\u001b[0mserver\u001b[0m \u001b[0;32mimport\u001b[0m \u001b[0mpva\u001b[0m\u001b[0;34m\u001b[0m\u001b[0;34m\u001b[0m\u001b[0m\n\u001b[0m\u001b[1;32m      2\u001b[0m \u001b[0;32mfrom\u001b[0m \u001b[0monline_model\u001b[0m\u001b[0;34m.\u001b[0m\u001b[0mmodel\u001b[0m\u001b[0;34m.\u001b[0m\u001b[0mMySurrogateModel\u001b[0m \u001b[0;32mimport\u001b[0m \u001b[0mMySurrogateModel\u001b[0m\u001b[0;34m\u001b[0m\u001b[0;34m\u001b[0m\u001b[0m\n\u001b[1;32m      3\u001b[0m \u001b[0;32mfrom\u001b[0m \u001b[0monline_model\u001b[0m \u001b[0;32mimport\u001b[0m \u001b[0mCMD_PVDB\u001b[0m\u001b[0;34m,\u001b[0m \u001b[0mSIM_PVDB\u001b[0m\u001b[0;34m,\u001b[0m \u001b[0mMODEL_KWARGS\u001b[0m\u001b[0;34m,\u001b[0m \u001b[0mPREFIX\u001b[0m\u001b[0;34m\u001b[0m\u001b[0;34m\u001b[0m\u001b[0m\n",
      "\u001b[0;32m~/SLAC/MD_SurrogateModel_Demo_20200206/online_model/__init__.py\u001b[0m in \u001b[0;36m<module>\u001b[0;34m\u001b[0m\n\u001b[1;32m     23\u001b[0m \u001b[0;31m# Build model info\u001b[0m\u001b[0;34m\u001b[0m\u001b[0;34m\u001b[0m\u001b[0;34m\u001b[0m\u001b[0m\n\u001b[1;32m     24\u001b[0m \u001b[0mMODEL_INFO\u001b[0m \u001b[0;34m=\u001b[0m \u001b[0;34m{\u001b[0m\u001b[0;34m}\u001b[0m\u001b[0;34m\u001b[0m\u001b[0;34m\u001b[0m\u001b[0m\n\u001b[0;32m---> 25\u001b[0;31m \u001b[0;32mwith\u001b[0m \u001b[0mh5py\u001b[0m\u001b[0;34m.\u001b[0m\u001b[0mFile\u001b[0m\u001b[0;34m(\u001b[0m\u001b[0mMODEL_FILE\u001b[0m\u001b[0;34m,\u001b[0m \u001b[0;34m\"r\"\u001b[0m\u001b[0;34m)\u001b[0m \u001b[0;32mas\u001b[0m \u001b[0mh5\u001b[0m\u001b[0;34m:\u001b[0m\u001b[0;34m\u001b[0m\u001b[0;34m\u001b[0m\u001b[0m\n\u001b[0m\u001b[1;32m     26\u001b[0m     \u001b[0mMODEL_INFO\u001b[0m \u001b[0;34m=\u001b[0m \u001b[0mdict\u001b[0m\u001b[0;34m(\u001b[0m\u001b[0mh5\u001b[0m\u001b[0;34m.\u001b[0m\u001b[0mattrs\u001b[0m\u001b[0;34m)\u001b[0m\u001b[0;34m\u001b[0m\u001b[0;34m\u001b[0m\u001b[0m\n\u001b[1;32m     27\u001b[0m \u001b[0;34m\u001b[0m\u001b[0m\n",
      "\u001b[0;32m~/opt/anaconda3/envs/online-surrogate-model-dev/lib/python3.7/site-packages/h5py/_hl/files.py\u001b[0m in \u001b[0;36m__init__\u001b[0;34m(self, name, mode, driver, libver, userblock_size, swmr, rdcc_nslots, rdcc_nbytes, rdcc_w0, track_order, **kwds)\u001b[0m\n\u001b[1;32m    406\u001b[0m                 fid = make_fid(name, mode, userblock_size,\n\u001b[1;32m    407\u001b[0m                                \u001b[0mfapl\u001b[0m\u001b[0;34m,\u001b[0m \u001b[0mfcpl\u001b[0m\u001b[0;34m=\u001b[0m\u001b[0mmake_fcpl\u001b[0m\u001b[0;34m(\u001b[0m\u001b[0mtrack_order\u001b[0m\u001b[0;34m=\u001b[0m\u001b[0mtrack_order\u001b[0m\u001b[0;34m)\u001b[0m\u001b[0;34m,\u001b[0m\u001b[0;34m\u001b[0m\u001b[0;34m\u001b[0m\u001b[0m\n\u001b[0;32m--> 408\u001b[0;31m                                swmr=swmr)\n\u001b[0m\u001b[1;32m    409\u001b[0m \u001b[0;34m\u001b[0m\u001b[0m\n\u001b[1;32m    410\u001b[0m             \u001b[0;32mif\u001b[0m \u001b[0misinstance\u001b[0m\u001b[0;34m(\u001b[0m\u001b[0mlibver\u001b[0m\u001b[0;34m,\u001b[0m \u001b[0mtuple\u001b[0m\u001b[0;34m)\u001b[0m\u001b[0;34m:\u001b[0m\u001b[0;34m\u001b[0m\u001b[0;34m\u001b[0m\u001b[0m\n",
      "\u001b[0;32m~/opt/anaconda3/envs/online-surrogate-model-dev/lib/python3.7/site-packages/h5py/_hl/files.py\u001b[0m in \u001b[0;36mmake_fid\u001b[0;34m(name, mode, userblock_size, fapl, fcpl, swmr)\u001b[0m\n\u001b[1;32m    171\u001b[0m         \u001b[0;32mif\u001b[0m \u001b[0mswmr\u001b[0m \u001b[0;32mand\u001b[0m \u001b[0mswmr_support\u001b[0m\u001b[0;34m:\u001b[0m\u001b[0;34m\u001b[0m\u001b[0;34m\u001b[0m\u001b[0m\n\u001b[1;32m    172\u001b[0m             \u001b[0mflags\u001b[0m \u001b[0;34m|=\u001b[0m \u001b[0mh5f\u001b[0m\u001b[0;34m.\u001b[0m\u001b[0mACC_SWMR_READ\u001b[0m\u001b[0;34m\u001b[0m\u001b[0;34m\u001b[0m\u001b[0m\n\u001b[0;32m--> 173\u001b[0;31m         \u001b[0mfid\u001b[0m \u001b[0;34m=\u001b[0m \u001b[0mh5f\u001b[0m\u001b[0;34m.\u001b[0m\u001b[0mopen\u001b[0m\u001b[0;34m(\u001b[0m\u001b[0mname\u001b[0m\u001b[0;34m,\u001b[0m \u001b[0mflags\u001b[0m\u001b[0;34m,\u001b[0m \u001b[0mfapl\u001b[0m\u001b[0;34m=\u001b[0m\u001b[0mfapl\u001b[0m\u001b[0;34m)\u001b[0m\u001b[0;34m\u001b[0m\u001b[0;34m\u001b[0m\u001b[0m\n\u001b[0m\u001b[1;32m    174\u001b[0m     \u001b[0;32melif\u001b[0m \u001b[0mmode\u001b[0m \u001b[0;34m==\u001b[0m \u001b[0;34m'r+'\u001b[0m\u001b[0;34m:\u001b[0m\u001b[0;34m\u001b[0m\u001b[0;34m\u001b[0m\u001b[0m\n\u001b[1;32m    175\u001b[0m         \u001b[0mfid\u001b[0m \u001b[0;34m=\u001b[0m \u001b[0mh5f\u001b[0m\u001b[0;34m.\u001b[0m\u001b[0mopen\u001b[0m\u001b[0;34m(\u001b[0m\u001b[0mname\u001b[0m\u001b[0;34m,\u001b[0m \u001b[0mh5f\u001b[0m\u001b[0;34m.\u001b[0m\u001b[0mACC_RDWR\u001b[0m\u001b[0;34m,\u001b[0m \u001b[0mfapl\u001b[0m\u001b[0;34m=\u001b[0m\u001b[0mfapl\u001b[0m\u001b[0;34m)\u001b[0m\u001b[0;34m\u001b[0m\u001b[0;34m\u001b[0m\u001b[0m\n",
      "\u001b[0;32mh5py/_objects.pyx\u001b[0m in \u001b[0;36mh5py._objects.with_phil.wrapper\u001b[0;34m()\u001b[0m\n",
      "\u001b[0;32mh5py/_objects.pyx\u001b[0m in \u001b[0;36mh5py._objects.with_phil.wrapper\u001b[0;34m()\u001b[0m\n",
      "\u001b[0;32mh5py/h5f.pyx\u001b[0m in \u001b[0;36mh5py.h5f.open\u001b[0;34m()\u001b[0m\n",
      "\u001b[0;31mOSError\u001b[0m: Unable to open file (unable to open file: name = 'online_model/files/CNN_051620_SurrogateModel.h5', errno = 2, error message = 'No such file or directory', flags = 0, o_flags = 0)"
     ]
    }
   ],
   "source": [
    "from online_model.server import pva\n",
    "from online_model.model.MySurrogateModel import MySurrogateModel\n",
    "from online_model import CMD_PVDB, SIM_PVDB, MODEL_KWARGS, PREFIX"
   ]
  },
  {
   "cell_type": "code",
   "execution_count": 24,
   "metadata": {},
   "outputs": [
    {
     "name": "stdout",
     "output_type": "stream",
     "text": [
      "Loaded Attributes successfully\n",
      "Loaded Architecture successfully\n",
      "WARNING:tensorflow:From /Users/jacquelinegarrahan/opt/anaconda3/envs/online-surrogate-model-dev/lib/python3.7/site-packages/tensorflow_core/python/ops/resource_variable_ops.py:1635: calling BaseResourceVariable.__init__ (from tensorflow.python.ops.resource_variable_ops) with constraint is deprecated and will be removed in a future version.\n",
      "Instructions for updating:\n",
      "If using Keras pass *_constraint arguments to layers.\n",
      "Loaded Weights successfully\n",
      "Running model...Ellapsed time: 0.07506203651428223\n"
     ]
    }
   ],
   "source": [
    "pva_server = pva.PVAServer(MySurrogateModel, MODEL_KWARGS, CMD_PVDB, SIM_PVDB, PREFIX)"
   ]
  },
  {
   "cell_type": "code",
   "execution_count": 25,
   "metadata": {},
   "outputs": [
    {
     "name": "stdout",
     "output_type": "stream",
     "text": [
      "Starting Server...\n",
      "Loaded Attributes successfully\n",
      "Loaded Architecture successfully\n",
      "Loaded Weights successfully\n",
      "Running model...Ellapsed time: 0.05187678337097168\n",
      "Running model...Ellapsed time: 0.003471851348876953\n",
      "Running model...Ellapsed time: 0.004322052001953125\n",
      "Running model...Ellapsed time: 0.0036170482635498047\n",
      "Running model...Ellapsed time: 0.0038881301879882812\n",
      "Running model...Ellapsed time: 0.0042819976806640625\n",
      "Running model...Ellapsed time: 0.004055023193359375\n",
      "Running model...Ellapsed time: 0.004297018051147461\n",
      "Running model...Ellapsed time: 0.004043102264404297\n",
      "Running model...Ellapsed time: 0.004728794097900391\n",
      "Running model...Ellapsed time: 0.004095792770385742\n",
      "Running model...Ellapsed time: 0.0035331249237060547\n",
      "Running model...Ellapsed time: 0.0035278797149658203\n",
      "Running model...Ellapsed time: 0.004136085510253906\n",
      "Running model...Ellapsed time: 0.003401041030883789\n",
      "Running model...Ellapsed time: 0.004075050354003906\n",
      "Running model...Ellapsed time: 0.00368499755859375\n",
      "Running model...Ellapsed time: 0.004115104675292969\n",
      "Running model...Ellapsed time: 0.004033088684082031\n",
      "Running model...Ellapsed time: 0.004156827926635742\n",
      "Running model...Ellapsed time: 0.0042951107025146484\n",
      "Running model...Ellapsed time: 0.004025697708129883\n",
      "Running model...Ellapsed time: 0.003721952438354492\n",
      "Running model...Ellapsed time: 0.004044055938720703\n",
      "Running model...Ellapsed time: 0.003905773162841797\n",
      "Running model...Ellapsed time: 0.0037789344787597656\n",
      "Running model...Ellapsed time: 0.0035538673400878906\n",
      "Running model...Ellapsed time: 0.0037140846252441406\n",
      "Running model...Ellapsed time: 0.004806041717529297\n",
      "Running model...Ellapsed time: 0.0035903453826904297\n",
      "Running model...Ellapsed time: 0.003902912139892578\n",
      "Running model...Ellapsed time: 0.003761768341064453\n",
      "Running model...Ellapsed time: 0.004336118698120117\n",
      "Running model...Ellapsed time: 0.0041637420654296875\n",
      "Running model...Ellapsed time: 0.003454923629760742\n",
      "Running model...Ellapsed time: 0.0035088062286376953\n",
      "Running model...Ellapsed time: 0.003913164138793945\n",
      "Running model...Ellapsed time: 0.004305839538574219\n",
      "Running model...Ellapsed time: 0.003929853439331055\n",
      "Running model...Ellapsed time: 0.0033538341522216797\n",
      "Running model...Ellapsed time: 0.0037059783935546875\n",
      "Running model...Ellapsed time: 0.0032701492309570312\n",
      "Running model...Ellapsed time: 0.0036008358001708984\n",
      "Running model...Ellapsed time: 0.003367900848388672\n",
      "Running model...Ellapsed time: 0.0035436153411865234\n",
      "Running model...Ellapsed time: 0.0036640167236328125\n",
      "Running model...Ellapsed time: 0.0034821033477783203\n",
      "Running model...Ellapsed time: 0.0036118030548095703\n",
      "Running model...Ellapsed time: 0.0036089420318603516\n",
      "Running model...Ellapsed time: 0.0035581588745117188\n",
      "Running model...Ellapsed time: 0.003464937210083008\n",
      "Running model...Ellapsed time: 0.00337982177734375\n",
      "Running model...Ellapsed time: 0.003364086151123047\n",
      "Running model...Ellapsed time: 0.003426790237426758\n",
      "Running model...Ellapsed time: 0.003580808639526367\n",
      "Running model...Ellapsed time: 0.0037970542907714844\n",
      "Running model...Ellapsed time: 0.0037229061126708984\n",
      "Running model...Ellapsed time: 0.0038251876831054688\n",
      "Running model...Ellapsed time: 0.0037539005279541016\n",
      "Running model...Ellapsed time: 0.004133939743041992\n",
      "Loaded Attributes successfully\n",
      "Loaded Architecture successfully\n",
      "Loaded Weights successfully\n",
      "Running model...Ellapsed time: 0.05524396896362305\n",
      "Running model...Ellapsed time: 0.004614114761352539\n",
      "Running model...Ellapsed time: 0.003961086273193359\n",
      "Running model...Ellapsed time: 0.0040721893310546875\n",
      "Running model...Ellapsed time: 0.0037980079650878906\n",
      "Running model...Ellapsed time: 0.003652811050415039\n",
      "Running model...Ellapsed time: 0.004129171371459961\n",
      "Running model...Ellapsed time: 0.0034241676330566406\n",
      "Running model...Ellapsed time: 0.004397869110107422\n",
      "Running model...Ellapsed time: 0.0046231746673583984\n",
      "Running model...Ellapsed time: 0.003715038299560547\n",
      "Running model...Ellapsed time: 0.0036809444427490234\n",
      "Running model...Ellapsed time: 0.0032329559326171875\n",
      "Running model...Ellapsed time: 0.003451824188232422\n",
      "Running model...Ellapsed time: 0.0036950111389160156\n",
      "Running model...Ellapsed time: 0.0035657882690429688\n",
      "Running model...Ellapsed time: 0.0037491321563720703\n",
      "Running model...Ellapsed time: 0.0033731460571289062\n",
      "Running model...Ellapsed time: 0.004169940948486328\n",
      "Running model...Ellapsed time: 0.0036830902099609375\n",
      "Running model...Ellapsed time: 0.0036640167236328125\n",
      "Running model...Ellapsed time: 0.0037848949432373047\n",
      "Running model...Ellapsed time: 0.003339052200317383\n",
      "Running model...Ellapsed time: 0.0032520294189453125\n",
      "Running model...Ellapsed time: 0.0038940906524658203\n",
      "Running model...Ellapsed time: 0.003345966339111328\n",
      "Running model...Ellapsed time: 0.003793954849243164\n",
      "Running model...Ellapsed time: 0.004263162612915039\n",
      "Running model...Ellapsed time: 0.003734111785888672\n",
      "Running model...Ellapsed time: 0.0034928321838378906\n",
      "Running model...Ellapsed time: 0.0032548904418945312\n",
      "Running model...Ellapsed time: 0.003777027130126953\n",
      "Running model...Ellapsed time: 0.003834247589111328\n",
      "Running model...Ellapsed time: 0.0037577152252197266\n",
      "Running model...Ellapsed time: 0.003165006637573242\n",
      "Running model...Ellapsed time: 0.0042040348052978516\n",
      "Running model...Ellapsed time: 0.003332853317260742\n",
      "Running model...Ellapsed time: 0.0036122798919677734\n",
      "Running model...Ellapsed time: 0.0034101009368896484\n",
      "Running model...Ellapsed time: 0.0036478042602539062\n",
      "Running model...Ellapsed time: 0.0035898685455322266\n",
      "Running model...Ellapsed time: 0.0036551952362060547\n",
      "Running model...Ellapsed time: 0.0035011768341064453\n",
      "Running model...Ellapsed time: 0.0035851001739501953\n",
      "Running model...Ellapsed time: 0.003431081771850586\n",
      "Running model...Ellapsed time: 0.004256010055541992\n",
      "Running model...Ellapsed time: 0.0036211013793945312\n",
      "Running model...Ellapsed time: 0.003595113754272461\n",
      "Running model...Ellapsed time: 0.0033321380615234375\n",
      "Running model...Ellapsed time: 0.0030939579010009766\n",
      "Running model...Ellapsed time: 0.003702878952026367\n",
      "Running model...Ellapsed time: 0.0033240318298339844\n",
      "Running model...Ellapsed time: 0.0035369396209716797\n",
      "Running model...Ellapsed time: 0.0035810470581054688\n",
      "Running model...Ellapsed time: 0.0034608840942382812\n",
      "Running model...Ellapsed time: 0.003694772720336914\n",
      "Running model...Ellapsed time: 0.003573894500732422\n",
      "Running model...Ellapsed time: 0.0033729076385498047\n",
      "Running model...Ellapsed time: 0.0036361217498779297\n",
      "Running model...Ellapsed time: 0.003782987594604492\n",
      "Running model...Ellapsed time: 0.003569364547729492\n",
      "Running model...Ellapsed time: 0.003749847412109375\n",
      "Running model...Ellapsed time: 0.0034401416778564453\n",
      "Running model...Ellapsed time: 0.0034668445587158203\n",
      "Running model...Ellapsed time: 0.0034029483795166016\n",
      "Running model...Ellapsed time: 0.003972053527832031\n",
      "Running model...Ellapsed time: 0.003567934036254883\n",
      "Running model...Ellapsed time: 0.003598928451538086\n",
      "Running model...Ellapsed time: 0.003509044647216797\n",
      "Running model...Ellapsed time: 0.003726959228515625\n",
      "Running model...Ellapsed time: 0.00360107421875\n",
      "Running model...Ellapsed time: 0.0036280155181884766\n",
      "Running model...Ellapsed time: 0.003390073776245117\n",
      "Running model...Ellapsed time: 0.003749847412109375\n",
      "Running model...Ellapsed time: 0.003408193588256836\n",
      "Running model...Ellapsed time: 0.0034592151641845703\n",
      "Running model...Ellapsed time: 0.0034618377685546875\n",
      "Running model...Ellapsed time: 0.003556966781616211\n",
      "Running model...Ellapsed time: 0.003152132034301758\n",
      "Running model...Ellapsed time: 0.0037910938262939453\n",
      "Running model...Ellapsed time: 0.004272937774658203\n",
      "Running model...Ellapsed time: 0.00372314453125\n",
      "Running model...Ellapsed time: 0.003507852554321289\n",
      "Running model...Ellapsed time: 0.003919124603271484\n",
      "Running model...Ellapsed time: 0.0038831233978271484\n",
      "Running model...Ellapsed time: 0.003857135772705078\n",
      "Running model...Ellapsed time: 0.003361940383911133\n",
      "Running model...Ellapsed time: 0.003439188003540039\n",
      "Running model...Ellapsed time: 0.0034308433532714844\n",
      "Running model...Ellapsed time: 0.0035021305084228516\n",
      "Running model...Ellapsed time: 0.0037419795989990234\n",
      "Running model...Ellapsed time: 0.003688812255859375\n",
      "Running model...Ellapsed time: 0.003876924514770508\n",
      "Running model...Ellapsed time: 0.0036389827728271484\n",
      "Running model...Ellapsed time: 0.004041194915771484\n",
      "Running model...Ellapsed time: 0.003659963607788086\n",
      "Running model...Ellapsed time: 0.003488779067993164\n",
      "Running model...Ellapsed time: 0.0035219192504882812\n"
     ]
    },
    {
     "name": "stdout",
     "output_type": "stream",
     "text": [
      "Running model...Ellapsed time: 0.003930091857910156\n",
      "Running model...Ellapsed time: 0.004049062728881836\n",
      "Running model...Ellapsed time: 0.003451824188232422\n",
      "Running model...Ellapsed time: 0.0035037994384765625\n",
      "Running model...Ellapsed time: 0.0036940574645996094\n",
      "Running model...Ellapsed time: 0.003738880157470703\n",
      "Running model...Ellapsed time: 0.004041910171508789\n",
      "Running model...Ellapsed time: 0.003407001495361328\n",
      "Running model...Ellapsed time: 0.0036580562591552734\n",
      "Running model...Ellapsed time: 0.0034689903259277344\n",
      "Loaded Attributes successfully\n",
      "Loaded Architecture successfully\n",
      "Loaded Weights successfully\n",
      "Running model...Ellapsed time: 0.058660030364990234\n",
      "Running model...Ellapsed time: 0.004384040832519531\n",
      "Running model...Ellapsed time: 0.003718852996826172\n",
      "Running model...Ellapsed time: 0.0032820701599121094\n",
      "Running model...Ellapsed time: 0.003907203674316406\n",
      "Running model...Ellapsed time: 0.004062175750732422\n",
      "Running model...Ellapsed time: 0.003957033157348633\n",
      "Running model...Ellapsed time: 0.003968954086303711\n",
      "Running model...Ellapsed time: 0.00450897216796875\n",
      "Running model...Ellapsed time: 0.003271818161010742\n",
      "Running model...Ellapsed time: 0.0030698776245117188\n",
      "Running model...Ellapsed time: 0.004463911056518555\n",
      "Running model...Ellapsed time: 0.003452301025390625\n",
      "Running model...Ellapsed time: 0.004355192184448242\n",
      "Running model...Ellapsed time: 0.0036542415618896484\n",
      "Running model...Ellapsed time: 0.004476070404052734\n",
      "Running model...Ellapsed time: 0.0035147666931152344\n",
      "Running model...Ellapsed time: 0.00507807731628418\n",
      "Running model...Ellapsed time: 0.0035848617553710938\n",
      "Running model...Ellapsed time: 0.003576040267944336\n",
      "Running model...Ellapsed time: 0.0036668777465820312\n",
      "Running model...Ellapsed time: 0.004426002502441406\n",
      "Running model...Ellapsed time: 0.003821134567260742\n",
      "Running model...Ellapsed time: 0.0036296844482421875\n",
      "Running model...Ellapsed time: 0.003904104232788086\n",
      "Running model...Ellapsed time: 0.004354953765869141\n",
      "Running model...Ellapsed time: 0.003690004348754883\n",
      "Running model...Ellapsed time: 0.0036208629608154297\n",
      "Running model...Ellapsed time: 0.003379344940185547\n",
      "Running model...Ellapsed time: 0.0041539669036865234\n",
      "Running model...Ellapsed time: 0.00397491455078125\n",
      "Running model...Ellapsed time: 0.0037841796875\n",
      "Running model...Ellapsed time: 0.003606081008911133\n"
     ]
    }
   ],
   "source": [
    "pva_server.start_server()"
   ]
  },
  {
   "cell_type": "markdown",
   "metadata": {},
   "source": [
    "The server is now running. To continue the demo, move to the Dashboard.ipynb notebook (without shutting this one down)."
   ]
  }
 ],
 "metadata": {
  "kernelspec": {
   "display_name": "online-surrogate-model-dev",
   "language": "python",
   "name": "online-surrogate-model-dev"
  },
  "language_info": {
   "codemirror_mode": {
    "name": "ipython",
    "version": 3
   },
   "file_extension": ".py",
   "mimetype": "text/x-python",
   "name": "python",
   "nbconvert_exporter": "python",
   "pygments_lexer": "ipython3",
   "version": "3.7.7"
  }
 },
 "nbformat": 4,
 "nbformat_minor": 4
}
