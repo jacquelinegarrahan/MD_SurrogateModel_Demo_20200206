{
 "cells": [
  {
   "cell_type": "code",
   "execution_count": 5,
   "metadata": {},
   "outputs": [],
   "source": [
    "# MAKE SURE THAT THE REPOSITORY ROOT IS IN THE PYTHONPATH\n",
    "import sys\n",
    "import os\n",
    "\n",
    "module_path = os.path.abspath(os.path.join(os.pardir, os.pardir))\n",
    "if module_path not in sys.path:\n",
    "    sys.path.append(module_path)"
   ]
  },
  {
   "cell_type": "markdown",
   "metadata": {},
   "source": [
    "# Scaling objects\n",
    "Scaling objects are helpful because they allow us to generalize the model architecture to use any scale type preprocessing desired without having to construct a new model with embedded methods. In this case, the scale object is loaded and passed to the model as a parameters. "
   ]
  },
  {
   "cell_type": "code",
   "execution_count": null,
   "metadata": {},
   "outputs": [],
   "source": []
  },
  {
   "cell_type": "code",
   "execution_count": 2,
   "metadata": {},
   "outputs": [
    {
     "name": "stderr",
     "output_type": "stream",
     "text": [
      "Using TensorFlow backend.\n"
     ]
    }
   ],
   "source": [
    "# CREATE A NEW MODEL CLASS\n",
    "# import base classes\n",
    "from online_model.model.surrogate_model import SurrogateModel, ReconstructedScaler"
   ]
  },
  {
   "cell_type": "markdown",
   "metadata": {},
   "source": [
    "The SurrogateModel class is the base class used for constructing the model. The session and graph set up in the base class are necessary for running the model in a thread-safe manner. \n",
    "\n",
    "SurrogateModel provides an abstract method: predict. This means that the predict function MUST be implemented by the any class that inherits from this class. This is important because it allows us to generalize the server callbacks to call `predict` against any model implementation."
   ]
  },
  {
   "cell_type": "code",
   "execution_count": 4,
   "metadata": {},
   "outputs": [
    {
     "data": {
      "text/plain": [
       "<_abc_data at 0x109160120>"
      ]
     },
     "execution_count": 4,
     "metadata": {},
     "output_type": "execute_result"
    }
   ],
   "source": [
    "class MySurrogateModel(SurrogateModel):\n",
    "    \n",
    "    def __init__(self, model_file, scalar):\n",
    "        super(MySurrogateModel, self).__init__(model_file)\n",
    "        \n",
    "    \n",
    "    def predict(self, )\"\"\n",
    "    "
   ]
  },
  {
   "cell_type": "code",
   "execution_count": null,
   "metadata": {},
   "outputs": [],
   "source": []
  }
 ],
 "metadata": {
  "kernelspec": {
   "display_name": "online-surrogate-model-dev",
   "language": "python",
   "name": "online-surrogate-model-dev"
  },
  "language_info": {
   "codemirror_mode": {
    "name": "ipython",
    "version": 3
   },
   "file_extension": ".py",
   "mimetype": "text/x-python",
   "name": "python",
   "nbconvert_exporter": "python",
   "pygments_lexer": "ipython3",
   "version": "3.7.7"
  }
 },
 "nbformat": 4,
 "nbformat_minor": 4
}
